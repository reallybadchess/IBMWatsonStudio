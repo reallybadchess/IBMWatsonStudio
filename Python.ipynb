{
    "cells": [
        {
            "cell_type": "markdown",
            "metadata": {
                "collapsed": true
            },
            "source": "# My Jupyter Notebook on IBM Watson Studio"
        },
        {
            "cell_type": "markdown",
            "metadata": {},
            "source": "#### Raphael M \n\nMy degree field is currently Applied Physics but I plan on transitioning into Data Science primarily focusing on blockchain tech."
        },
        {
            "cell_type": "markdown",
            "metadata": {},
            "source": "*Data science interests me because when harnessed properly, it can help answer questions pertaining to difficult problems. These questions often leading to solving puzzles and finding insight from what before was seen as useless garbage.*\n"
        },
        {
            "cell_type": "markdown",
            "metadata": {},
            "source": "### My code is a very simple function that finds the value of an input divided by 2."
        },
        {
            "cell_type": "code",
            "execution_count": 6,
            "metadata": {},
            "outputs": [
                {
                    "data": {
                        "text/plain": "1.5"
                    },
                    "execution_count": 6,
                    "metadata": {},
                    "output_type": "execute_result"
                }
            ],
            "source": "def Div(a):\n    c = a / 2\n    return c\n    \nDiv(3)"
        },
        {
            "cell_type": "markdown",
            "metadata": {},
            "source": "* ~Hello~\n* ~Aloha~\n* ~Hola~\n\n___\n\n>Fool me once, strike one. Fool me twice, strike three. \n-Michael Scott"
        },
        {
            "cell_type": "code",
            "execution_count": null,
            "metadata": {},
            "outputs": [],
            "source": ""
        }
    ],
    "metadata": {
        "kernelspec": {
            "display_name": "Python 3.7",
            "language": "python",
            "name": "python3"
        },
        "language_info": {
            "codemirror_mode": {
                "name": "ipython",
                "version": 3
            },
            "file_extension": ".py",
            "mimetype": "text/x-python",
            "name": "python",
            "nbconvert_exporter": "python",
            "pygments_lexer": "ipython3",
            "version": "3.7.10"
        }
    },
    "nbformat": 4,
    "nbformat_minor": 1
}